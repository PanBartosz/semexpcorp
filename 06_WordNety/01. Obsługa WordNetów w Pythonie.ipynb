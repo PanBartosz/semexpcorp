{
 "cells": [
  {
   "cell_type": "markdown",
   "metadata": {},
   "source": [
    "# Obsługa WordNetów za pomocą biblioteki NLTK w Pythonie"
   ]
  },
  {
   "cell_type": "markdown",
   "metadata": {},
   "source": [
    "WordNety można obsługiwać za pomocą przeglądarki, ale dla kogoś kto chce korzystać z tych danych w swoich skryptach, znacznie lepszym pomysłem jest obsługa WordNetów przez interfejs zapewniany przez bibliotekę NLTK. Żeby zaimportować odpowiedni interfejs należy zaimportować odpowiedni moduł: "
   ]
  },
  {
   "cell_type": "code",
   "execution_count": 144,
   "metadata": {},
   "outputs": [],
   "source": [
    "import nltk\n",
    "from nltk.corpus import wordnet as wn\n",
    "#nltk.download()\n",
    "# najpierw jednak trzeba pobrać odpowiednią bazę danych, to polecenie powinno uruchomić okienko i tam trzeba znaleźć wordnet :)"
   ]
  },
  {
   "cell_type": "markdown",
   "metadata": {},
   "source": [
    "Za pomocą funkcji `synsets` możemy wyszukiwać synsety (zbiory synonimów!) w których znajdują się interesujące nas słowa. Spróbujmy najprostszy, psi przykład:"
   ]
  },
  {
   "cell_type": "code",
   "execution_count": 145,
   "metadata": {},
   "outputs": [
    {
     "data": {
      "text/plain": [
       "[Synset('dog.n.01'),\n",
       " Synset('frump.n.01'),\n",
       " Synset('dog.n.03'),\n",
       " Synset('cad.n.01'),\n",
       " Synset('frank.n.02'),\n",
       " Synset('pawl.n.01'),\n",
       " Synset('andiron.n.01'),\n",
       " Synset('chase.v.01')]"
      ]
     },
     "execution_count": 145,
     "metadata": {},
     "output_type": "execute_result"
    }
   ],
   "source": [
    "wn.synsets('dog')"
   ]
  },
  {
   "cell_type": "markdown",
   "metadata": {},
   "source": [
    "Dostaliśmy rozmaite synsety - prawie wszystkie to rzeczowniki (mają literkę `n`). Musimy wybrać jeden z nich, więc wybierzmy pierwszy (a co!).  "
   ]
  },
  {
   "cell_type": "code",
   "execution_count": 146,
   "metadata": {},
   "outputs": [],
   "source": [
    "dog_sn = wn.synsets('dog')[0]"
   ]
  },
  {
   "cell_type": "markdown",
   "metadata": {},
   "source": [
    "Teraz, kiedy już mamy obiekt reprezentujący synset, możemy wywoływać na nim rozmaite metody. Możemy zobaczyć na przykład definicję danego synsetu za pomocą metody `definition`."
   ]
  },
  {
   "cell_type": "code",
   "execution_count": 147,
   "metadata": {},
   "outputs": [
    {
     "data": {
      "text/plain": [
       "'a member of the genus Canis (probably descended from the common wolf) that has been domesticated by man since prehistoric times; occurs in many breeds'"
      ]
     },
     "execution_count": 147,
     "metadata": {},
     "output_type": "execute_result"
    }
   ],
   "source": [
    "dog_sn.definition()"
   ]
  },
  {
   "cell_type": "markdown",
   "metadata": {},
   "source": [
    "`lemma_names` zwróci nam podstawowe formu różnych leksemów, które zawiera dany synset: "
   ]
  },
  {
   "cell_type": "code",
   "execution_count": 148,
   "metadata": {},
   "outputs": [
    {
     "data": {
      "text/plain": [
       "['dog', 'domestic_dog', 'Canis_familiaris']"
      ]
     },
     "execution_count": 148,
     "metadata": {},
     "output_type": "execute_result"
    }
   ],
   "source": [
    "dog_sn.lemma_names()"
   ]
  },
  {
   "cell_type": "markdown",
   "metadata": {},
   "source": [
    "Możemy również sprawdzić do jakiej części mowy należy dany synset za pomocą metody `pos`:"
   ]
  },
  {
   "cell_type": "code",
   "execution_count": 149,
   "metadata": {},
   "outputs": [
    {
     "data": {
      "text/plain": [
       "'n'"
      ]
     },
     "execution_count": 149,
     "metadata": {},
     "output_type": "execute_result"
    }
   ],
   "source": [
    "dog_sn.pos()"
   ]
  },
  {
   "cell_type": "markdown",
   "metadata": {},
   "source": [
    "Oczywiście cała \"magia\" WordNetu polega na tym, że synsety ułożone są w pewną hierarchiczną strukturę. Jedną z podstawowych relacji jest relacja hiponimii i hyperonimii. Jak Państwo pamiętają hiponimy, to wyrazy o treści bardziej szczegółowej, hiperonimy mają za to treść bardziej ogólną. Listę synsetów hipo i hiperonimicznych możemy uzyskać posługując się metodami `hypernyms` oraz `hyponyms`. Jak widzimy hiperonimami psa są \"psowaty\" oraz \"zwierzę domowe\". "
   ]
  },
  {
   "cell_type": "code",
   "execution_count": 150,
   "metadata": {},
   "outputs": [
    {
     "data": {
      "text/plain": [
       "[Synset('canine.n.02'), Synset('domestic_animal.n.01')]"
      ]
     },
     "execution_count": 150,
     "metadata": {},
     "output_type": "execute_result"
    }
   ],
   "source": [
    "dog_sn.hypernyms()"
   ]
  },
  {
   "cell_type": "markdown",
   "metadata": {},
   "source": [
    "Jeśli chodzi o hiponimy, to mamy zarówno takie, które są po prostu poszczególnymi gatunkami psa (corgi, pudel), ale również pewne kwalifikowane rodzaje psów (pies pracujący, mały pies, pies myśliwski)."
   ]
  },
  {
   "cell_type": "code",
   "execution_count": 151,
   "metadata": {},
   "outputs": [
    {
     "data": {
      "text/plain": [
       "[Synset('basenji.n.01'),\n",
       " Synset('corgi.n.01'),\n",
       " Synset('cur.n.01'),\n",
       " Synset('dalmatian.n.02'),\n",
       " Synset('great_pyrenees.n.01'),\n",
       " Synset('griffon.n.02'),\n",
       " Synset('hunting_dog.n.01'),\n",
       " Synset('lapdog.n.01'),\n",
       " Synset('leonberg.n.01'),\n",
       " Synset('mexican_hairless.n.01'),\n",
       " Synset('newfoundland.n.01'),\n",
       " Synset('pooch.n.01'),\n",
       " Synset('poodle.n.01'),\n",
       " Synset('pug.n.01'),\n",
       " Synset('puppy.n.01'),\n",
       " Synset('spitz.n.01'),\n",
       " Synset('toy_dog.n.01'),\n",
       " Synset('working_dog.n.01')]"
      ]
     },
     "execution_count": 151,
     "metadata": {},
     "output_type": "execute_result"
    }
   ],
   "source": [
    "dog_sn.hyponyms()"
   ]
  },
  {
   "cell_type": "markdown",
   "metadata": {},
   "source": [
    "Mamy również dodatkowe relacje semantyczne, np. relacja holonimii i meronimii. Członkiem stada (?) psów jest pies, wobec czego angielskie \"pack\" jest holonimem \"dog\", tak samo członkiem gatunki \"canis\"."
   ]
  },
  {
   "cell_type": "code",
   "execution_count": 152,
   "metadata": {},
   "outputs": [
    {
     "data": {
      "text/plain": [
       "[Synset('canis.n.01'), Synset('pack.n.06')]"
      ]
     },
     "execution_count": 152,
     "metadata": {},
     "output_type": "execute_result"
    }
   ],
   "source": [
    "dog_sn.member_holonyms()"
   ]
  },
  {
   "cell_type": "markdown",
   "metadata": {},
   "source": [
    "W WordNecie zakodowane są różne inne rodzaje relacji między synsetami, ale oczywiście nie wszystkie synsety mają je wszystkie uwzględnione."
   ]
  },
  {
   "cell_type": "markdown",
   "metadata": {},
   "source": [
    "Oprócz obiektów reprezentujących synsety, mamy także obiekty reprezentujące poszczególne lemmy. Spróbujmy zobaczyć co mozemy z nimi zrobić na przykładzie synsetu odpowiadającego przymiotnikowi \"dirty\":"
   ]
  },
  {
   "cell_type": "code",
   "execution_count": 153,
   "metadata": {},
   "outputs": [
    {
     "data": {
      "text/plain": [
       "[Synset('dirty.a.01'),\n",
       " Synset('dirty.a.02'),\n",
       " Synset('dirty.s.03'),\n",
       " Synset('dirty.a.04'),\n",
       " Synset('dirty.s.05'),\n",
       " Synset('dirty.s.06'),\n",
       " Synset('dirty.s.07'),\n",
       " Synset('dirty.s.08'),\n",
       " Synset('dirty.s.09'),\n",
       " Synset('cheating.s.02'),\n",
       " Synset('dirty.s.11'),\n",
       " Synset('dirty.s.12')]"
      ]
     },
     "execution_count": 153,
     "metadata": {},
     "output_type": "execute_result"
    }
   ],
   "source": [
    "wn.synsets('dirty', pos=wn.ADJ) # pos=wn.ADJ odfiltrowuje te synsety, które nie dotyczą przymiotników"
   ]
  },
  {
   "cell_type": "markdown",
   "metadata": {},
   "source": [
    "Wybierzmy pierwszy z nich:"
   ]
  },
  {
   "cell_type": "code",
   "execution_count": 154,
   "metadata": {},
   "outputs": [],
   "source": [
    "dirty_sn = wn.synsets('dirty', pos=wn.ADJ)[0]"
   ]
  },
  {
   "cell_type": "markdown",
   "metadata": {},
   "source": [
    "Za pomnocą metody `lemmas` możemy uzyskać wszystkie lemmy wszystkich zawartych w tym synsecie leksemów:"
   ]
  },
  {
   "cell_type": "code",
   "execution_count": 155,
   "metadata": {},
   "outputs": [
    {
     "data": {
      "text/plain": [
       "[Lemma('dirty.a.01.dirty'),\n",
       " Lemma('dirty.a.01.soiled'),\n",
       " Lemma('dirty.a.01.unclean')]"
      ]
     },
     "execution_count": 155,
     "metadata": {},
     "output_type": "execute_result"
    }
   ],
   "source": [
    "dirty_sn.lemmas()"
   ]
  },
  {
   "cell_type": "markdown",
   "metadata": {},
   "source": [
    "Wybierzmy znów pierwszy z nich:"
   ]
  },
  {
   "cell_type": "code",
   "execution_count": 156,
   "metadata": {},
   "outputs": [],
   "source": [
    "dirty_lemma = dirty_sn.lemmas()[0]"
   ]
  },
  {
   "cell_type": "markdown",
   "metadata": {},
   "source": [
    "Obiekty reprezentujące lemmy mają kilka dodatkowych metod, np. `antonyms` zwraca listę lemm, które są antonimami."
   ]
  },
  {
   "cell_type": "code",
   "execution_count": 157,
   "metadata": {},
   "outputs": [
    {
     "data": {
      "text/plain": [
       "[Lemma('clean.a.01.clean')]"
      ]
     },
     "execution_count": 157,
     "metadata": {},
     "output_type": "execute_result"
    }
   ],
   "source": [
    "dirty_lemma.antonyms()"
   ]
  },
  {
   "cell_type": "markdown",
   "metadata": {},
   "source": [
    "Metoda `derivationally_related_forms` zwraca, jak sugeruje to nazwa, albo formy, z których derywowany był dany leksem, ale formy derywowane z niego:"
   ]
  },
  {
   "cell_type": "code",
   "execution_count": 158,
   "metadata": {},
   "outputs": [
    {
     "data": {
      "text/plain": [
       "[Lemma('dirt.n.02.dirt'), Lemma('dirtiness.n.01.dirtiness')]"
      ]
     },
     "execution_count": 158,
     "metadata": {},
     "output_type": "execute_result"
    }
   ],
   "source": [
    "dirty_lemma.derivationally_related_forms()"
   ]
  },
  {
   "cell_type": "markdown",
   "metadata": {},
   "source": [
    "## Bezpośrednie i niebezpośrednie antonimy "
   ]
  },
  {
   "cell_type": "markdown",
   "metadata": {},
   "source": [
    "Spróbujmy znaleźć bezpośrednie i niebezpośrednie antonimy słowa \"good\". Na początek wybierzmy odpowiedni synset:"
   ]
  },
  {
   "cell_type": "code",
   "execution_count": 159,
   "metadata": {},
   "outputs": [],
   "source": [
    "adjs = wn.synsets('good', pos=wn.ADJ)"
   ]
  },
  {
   "cell_type": "code",
   "execution_count": 160,
   "metadata": {},
   "outputs": [
    {
     "data": {
      "text/plain": [
       "[Synset('good.a.01'),\n",
       " Synset('full.s.06'),\n",
       " Synset('good.a.03'),\n",
       " Synset('estimable.s.02'),\n",
       " Synset('beneficial.s.01'),\n",
       " Synset('good.s.06'),\n",
       " Synset('good.s.07'),\n",
       " Synset('adept.s.01'),\n",
       " Synset('good.s.09'),\n",
       " Synset('dear.s.02'),\n",
       " Synset('dependable.s.04'),\n",
       " Synset('good.s.12'),\n",
       " Synset('good.s.13'),\n",
       " Synset('effective.s.04'),\n",
       " Synset('good.s.15'),\n",
       " Synset('good.s.16'),\n",
       " Synset('good.s.17'),\n",
       " Synset('good.s.18'),\n",
       " Synset('good.s.19'),\n",
       " Synset('good.s.20'),\n",
       " Synset('good.s.21')]"
      ]
     },
     "execution_count": 160,
     "metadata": {},
     "output_type": "execute_result"
    }
   ],
   "source": [
    "adjs"
   ]
  },
  {
   "cell_type": "code",
   "execution_count": 161,
   "metadata": {},
   "outputs": [],
   "source": [
    "adj = adjs[0]"
   ]
  },
  {
   "cell_type": "code",
   "execution_count": 162,
   "metadata": {},
   "outputs": [
    {
     "data": {
      "text/plain": [
       "'having desirable or positive qualities especially those suitable for a thing specified'"
      ]
     },
     "execution_count": 162,
     "metadata": {},
     "output_type": "execute_result"
    }
   ],
   "source": [
    "adj.definition()"
   ]
  },
  {
   "cell_type": "markdown",
   "metadata": {},
   "source": [
    "Wygląda nieźle, zobaczmy więc jakie są do niego przypisane lemmy i czy jesteśmy w stanie uzyskać ich antonimy:"
   ]
  },
  {
   "cell_type": "code",
   "execution_count": 163,
   "metadata": {},
   "outputs": [
    {
     "name": "stdout",
     "output_type": "stream",
     "text": [
      "bad\n"
     ]
    }
   ],
   "source": [
    "for lemma in adj.lemmas():\n",
    "    print(lemma.antonyms()[0].name())"
   ]
  },
  {
   "cell_type": "code",
   "execution_count": 164,
   "metadata": {},
   "outputs": [
    {
     "data": {
      "text/plain": [
       "[Synset('bang-up.s.01'),\n",
       " Synset('good_enough.s.01'),\n",
       " Synset('goodish.s.01'),\n",
       " Synset('hot.s.15'),\n",
       " Synset('redeeming.s.02'),\n",
       " Synset('satisfactory.s.02'),\n",
       " Synset('solid.s.01'),\n",
       " Synset('superb.s.02'),\n",
       " Synset('well-behaved.s.01')]"
      ]
     },
     "execution_count": 164,
     "metadata": {},
     "output_type": "execute_result"
    }
   ],
   "source": [
    "adj.similar_tos()"
   ]
  },
  {
   "cell_type": "code",
   "execution_count": 165,
   "metadata": {},
   "outputs": [
    {
     "name": "stdout",
     "output_type": "stream",
     "text": [
      "bang-up.s.01\n",
      "very good\n",
      "bang-up\n",
      "[]\n",
      "\n",
      "\n",
      "bully\n",
      "[]\n",
      "\n",
      "\n",
      "corking\n",
      "[]\n",
      "\n",
      "\n",
      "cracking\n",
      "[]\n",
      "\n",
      "\n",
      "dandy\n",
      "[]\n",
      "\n",
      "\n",
      "great\n",
      "[]\n",
      "\n",
      "\n",
      "groovy\n",
      "[]\n",
      "\n",
      "\n",
      "keen\n",
      "[]\n",
      "\n",
      "\n",
      "neat\n",
      "[]\n",
      "\n",
      "\n",
      "nifty\n",
      "[]\n",
      "\n",
      "\n",
      "not_bad\n",
      "[]\n",
      "\n",
      "\n",
      "peachy\n",
      "[]\n",
      "\n",
      "\n",
      "slap-up\n",
      "[]\n",
      "\n",
      "\n",
      "swell\n",
      "[]\n",
      "\n",
      "\n",
      "smashing\n",
      "[]\n",
      "\n",
      "\n",
      "good_enough.s.01\n",
      "adequately good for the circumstances\n",
      "good_enough\n",
      "[]\n",
      "\n",
      "\n",
      "goodish.s.01\n",
      "moderately good of its kind\n",
      "goodish\n",
      "[]\n",
      "\n",
      "\n",
      "hot.s.15\n",
      "very good; often used in the negative\n",
      "hot\n",
      "[]\n",
      "\n",
      "\n",
      "redeeming.s.02\n",
      "compensating for some fault or defect\n",
      "redeeming\n",
      "[]\n",
      "\n",
      "\n",
      "satisfactory.s.02\n",
      "meeting requirements\n",
      "satisfactory\n",
      "[]\n",
      "\n",
      "\n",
      "acceptable\n",
      "[]\n",
      "\n",
      "\n",
      "solid.s.01\n",
      "characterized by good substantial quality\n",
      "solid\n",
      "[]\n",
      "\n",
      "\n",
      "superb.s.02\n",
      "surpassingly good\n",
      "superb\n",
      "[]\n",
      "\n",
      "\n",
      "well-behaved.s.01\n",
      "(usually of children) someone who behaves in a manner that the speaker believes is correct\n",
      "well-behaved\n",
      "[]\n",
      "\n",
      "\n",
      "well_behaved\n",
      "[]\n",
      "\n",
      "\n"
     ]
    }
   ],
   "source": [
    "for synset in adj.similar_tos():\n",
    "    print(synset.name())\n",
    "    print(synset.definition())\n",
    "    for lemma in synset.lemmas():\n",
    "        print(lemma.name())\n",
    "        print(lemma.antonyms())\n",
    "        print('\\n')"
   ]
  },
  {
   "cell_type": "markdown",
   "metadata": {},
   "source": [
    "Widzimy więc, że te słowa te nie mają żadnych bezpośrednich antonimów, mają tylko niebezpośredni antonim, dzięki swojemu podobieństwu do \"good\". Zachęcam do prób i eksperymentów! Krótka dokumentacja tego modułu w NLTK znajduje się na stronie: http://www.nltk.org/howto/wordnet.html (ale nie jest zbyt obszerna, niestety dużo trzeba samemu eksperymentować)."
   ]
  }
 ],
 "metadata": {
  "kernelspec": {
   "display_name": "Python 3",
   "language": "python",
   "name": "python3"
  },
  "language_info": {
   "codemirror_mode": {
    "name": "ipython",
    "version": 3
   },
   "file_extension": ".py",
   "mimetype": "text/x-python",
   "name": "python",
   "nbconvert_exporter": "python",
   "pygments_lexer": "ipython3",
   "version": "3.7.2"
  }
 },
 "nbformat": 4,
 "nbformat_minor": 2
}
